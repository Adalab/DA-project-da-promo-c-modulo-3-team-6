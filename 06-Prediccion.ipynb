{
 "cells": [
  {
   "cell_type": "code",
   "execution_count": 33,
   "metadata": {},
   "outputs": [],
   "source": [
    "import pandas as pd\n",
    "import numpy as np\n",
    "from sklearn.model_selection import train_test_split\n",
    "from sklearn.tree import DecisionTreeRegressor\n",
    "from sklearn.ensemble import RandomForestRegressor\n",
    "from sklearn.ensemble import GradientBoostingRegressor\n",
    "from sklearn import tree\n",
    "from sklearn.metrics import r2_score, mean_squared_error, mean_absolute_error\n",
    "from sklearn.model_selection import GridSearchCV\n",
    "from sklearn.preprocessing import StandardScaler\n",
    "from sklearn.preprocessing import OneHotEncoder\n",
    "import pickle\n",
    "import warnings\n",
    "warnings.filterwarnings('once')"
   ]
  },
  {
   "cell_type": "code",
   "execution_count": 84,
   "metadata": {},
   "outputs": [],
   "source": [
    "with open (\"datos/estandarizar.pkl\" , \"rb\") as fp:\n",
    "    bike = pickle.load(fp)"
   ]
  },
  {
   "attachments": {},
   "cell_type": "markdown",
   "metadata": {},
   "source": [
    "- Si el año es 2018: 0\n",
    "- Si el año es 2019: 1\n",
    "- Si son vacaciones: 1\n",
    "- Si no son vaciones: 0\n",
    "- Si es día laborable: 1\n",
    "- Si no es día laborable: 0\n",
    "- Los días de la semana van del 1 al 7 empezando por lunes.\n",
    "- Si weathersit = 1 -> sol\n",
    "- Si weathersit = 2 -> nublado\n",
    "- Si weathersit = 3 -> nieve, lluvia\n"
   ]
  },
  {
   "cell_type": "code",
   "execution_count": 105,
   "metadata": {},
   "outputs": [
    {
     "data": {
      "text/html": [
       "<div>\n",
       "<style scoped>\n",
       "    .dataframe tbody tr th:only-of-type {\n",
       "        vertical-align: middle;\n",
       "    }\n",
       "\n",
       "    .dataframe tbody tr th {\n",
       "        vertical-align: top;\n",
       "    }\n",
       "\n",
       "    .dataframe thead th {\n",
       "        text-align: right;\n",
       "    }\n",
       "</style>\n",
       "<table border=\"1\" class=\"dataframe\">\n",
       "  <thead>\n",
       "    <tr style=\"text-align: right;\">\n",
       "      <th></th>\n",
       "      <th>season</th>\n",
       "      <th>yr</th>\n",
       "      <th>mnth</th>\n",
       "      <th>holiday</th>\n",
       "      <th>weekday</th>\n",
       "      <th>workingday</th>\n",
       "      <th>weathersit</th>\n",
       "      <th>atemp</th>\n",
       "      <th>hum</th>\n",
       "      <th>windspeed</th>\n",
       "    </tr>\n",
       "  </thead>\n",
       "  <tbody>\n",
       "    <tr>\n",
       "      <th>0</th>\n",
       "      <td>summer</td>\n",
       "      <td>1</td>\n",
       "      <td>8</td>\n",
       "      <td>0</td>\n",
       "      <td>5</td>\n",
       "      <td>1</td>\n",
       "      <td>1</td>\n",
       "      <td>40.5</td>\n",
       "      <td>78</td>\n",
       "      <td>10.9</td>\n",
       "    </tr>\n",
       "  </tbody>\n",
       "</table>\n",
       "</div>"
      ],
      "text/plain": [
       "   season  yr  mnth  holiday  weekday  workingday  weathersit  atemp  hum  \\\n",
       "0  summer   1     8        0        5           1           1   40.5   78   \n",
       "\n",
       "   windspeed  \n",
       "0       10.9  "
      ]
     },
     "execution_count": 105,
     "metadata": {},
     "output_type": "execute_result"
    }
   ],
   "source": [
    "usuario = {\"season\": \"summer\" , \"yr\": 1, \"mnth\": 8 ,\"holiday\": 0, \"weekday\": 5 ,\"workingday\":1, \"weathersit\": 1, \"atemp\": 40.5, \"hum\": 78, \"windspeed\": 10.9 }\n",
    "df_usuario = pd.DataFrame(usuario, index = [0])\n",
    "df_usuario"
   ]
  },
  {
   "cell_type": "code",
   "execution_count": 106,
   "metadata": {},
   "outputs": [],
   "source": [
    "map_holiday = {0:7, 1:0}\n",
    "df_usuario[\"holiday\"] = df_usuario[\"holiday\"].map(map_holiday)\n",
    "map_weathersit = {3:0, 2:2, 1:4}\n",
    "df_usuario[\"weathersit\"] = df_usuario[\"weathersit\"].map(map_weathersit)\n",
    "map_season = {\"winter\":0, \"autumn\":1, \"spring\":1, \"summer\":2}\n",
    "df_usuario[\"season\"] = df_usuario[\"season\"].map(map_season)\n",
    "mapa_weekday = {1: 0, 2:1, 3: 1, 4: 2, 5: 2, 6:2, 7:1}\n",
    "df_usuario[\"weekday\"] = df_usuario[\"weekday\"].map(mapa_weekday)\n",
    "mapa_mnth = {1: 0, 2:0, 3: 1, 4: 1, 5: 2, 6:2, 7:2, 8:2, 9:2, 10:2, 11:1, 12:1}\n",
    "df_usuario[\"mnth\"] = df_usuario[\"mnth\"].map(mapa_mnth)\n",
    "map_workingday = {0:1, 1:2}\n",
    "df_usuario[\"workingday\"] = df_usuario[\"workingday\"].map(map_workingday)"
   ]
  },
  {
   "cell_type": "code",
   "execution_count": 108,
   "metadata": {},
   "outputs": [
    {
     "data": {
      "text/html": [
       "<div>\n",
       "<style scoped>\n",
       "    .dataframe tbody tr th:only-of-type {\n",
       "        vertical-align: middle;\n",
       "    }\n",
       "\n",
       "    .dataframe tbody tr th {\n",
       "        vertical-align: top;\n",
       "    }\n",
       "\n",
       "    .dataframe thead th {\n",
       "        text-align: right;\n",
       "    }\n",
       "</style>\n",
       "<table border=\"1\" class=\"dataframe\">\n",
       "  <thead>\n",
       "    <tr style=\"text-align: right;\">\n",
       "      <th></th>\n",
       "      <th>atemp</th>\n",
       "      <th>hum</th>\n",
       "      <th>windspeed</th>\n",
       "    </tr>\n",
       "  </thead>\n",
       "  <tbody>\n",
       "    <tr>\n",
       "      <th>0</th>\n",
       "      <td>40.5</td>\n",
       "      <td>78</td>\n",
       "      <td>10.9</td>\n",
       "    </tr>\n",
       "  </tbody>\n",
       "</table>\n",
       "</div>"
      ],
      "text/plain": [
       "   atemp  hum  windspeed\n",
       "0   40.5   78       10.9"
      ]
     },
     "execution_count": 108,
     "metadata": {},
     "output_type": "execute_result"
    }
   ],
   "source": [
    "numericas = df_usuario[[\"atemp\", \"hum\", \"windspeed\"]]\n",
    "numericas"
   ]
  },
  {
   "cell_type": "code",
   "execution_count": 109,
   "metadata": {},
   "outputs": [],
   "source": [
    "df_bike = pd.DataFrame(bike.transform(numericas))\n"
   ]
  },
  {
   "cell_type": "code",
   "execution_count": 111,
   "metadata": {},
   "outputs": [],
   "source": [
    "df_usuario[[\"atemp\", \"hum\", \"windspeed\"]] = df_bike"
   ]
  },
  {
   "cell_type": "code",
   "execution_count": 113,
   "metadata": {},
   "outputs": [],
   "source": [
    "with open (\"datos/model_prediccion.pkl\" , \"rb\") as fs:\n",
    "    modelo = pickle.load(fs)"
   ]
  },
  {
   "cell_type": "code",
   "execution_count": 114,
   "metadata": {},
   "outputs": [
    {
     "data": {
      "text/plain": [
       "array([4736.45599193])"
      ]
     },
     "execution_count": 114,
     "metadata": {},
     "output_type": "execute_result"
    }
   ],
   "source": [
    "modelo.predict(df_usuario)"
   ]
  }
 ],
 "metadata": {
  "kernelspec": {
   "display_name": "Python 3",
   "language": "python",
   "name": "python3"
  },
  "language_info": {
   "codemirror_mode": {
    "name": "ipython",
    "version": 3
   },
   "file_extension": ".py",
   "mimetype": "text/x-python",
   "name": "python",
   "nbconvert_exporter": "python",
   "pygments_lexer": "ipython3",
   "version": "3.10.10"
  },
  "orig_nbformat": 4,
  "vscode": {
   "interpreter": {
    "hash": "74ce4e106c5f3fb5408a2b59926dbdd162e96cafe5f5c54fb66c999b373c7a81"
   }
  }
 },
 "nbformat": 4,
 "nbformat_minor": 2
}
