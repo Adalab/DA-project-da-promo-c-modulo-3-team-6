{
 "cells": [
  {
   "cell_type": "markdown",
   "metadata": {},
   "source": [
    "### Sprint 2 - Decision Tree"
   ]
  },
  {
   "cell_type": "markdown",
   "metadata": {},
   "source": [
    "Asuntos pendientes:\n",
    "- Crear el *Decision tree*.\n",
    "- Meter \"más gráficas\" en el EDA.\n",
    "- Crear modelos separados para \"casual\" y \"registered\".\n",
    "\n",
    "\n",
    "[ ] Separar los dfs en \"casual\" y \"registered\".\n",
    "\n",
    "[ ] Hemos limpiado pepe."
   ]
  }
 ],
 "metadata": {
  "kernelspec": {
   "display_name": "Python 3.10.6 64-bit",
   "language": "python",
   "name": "python3"
  },
  "language_info": {
   "name": "python",
   "version": "3.10.6"
  },
  "orig_nbformat": 4,
  "vscode": {
   "interpreter": {
    "hash": "916dbcbb3f70747c44a77c7bcd40155683ae19c65e1c03b4aa3499c5328201f1"
   }
  }
 },
 "nbformat": 4,
 "nbformat_minor": 2
}
